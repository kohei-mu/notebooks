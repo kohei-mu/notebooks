{
  "nbformat": 4,
  "nbformat_minor": 0,
  "metadata": {
    "colab": {
      "provenance": [],
      "toc_visible": true,
      "authorship_tag": "ABX9TyMoPTnn4+YZb6wM10mGPPsX",
      "include_colab_link": true
    },
    "kernelspec": {
      "name": "python3",
      "display_name": "Python 3"
    },
    "language_info": {
      "name": "python"
    }
  },
  "cells": [
    {
      "cell_type": "markdown",
      "metadata": {
        "id": "view-in-github",
        "colab_type": "text"
      },
      "source": [
        "<a href=\"https://colab.research.google.com/github/kohei-mu/notebooks/blob/main/japanese_ner.ipynb\" target=\"_parent\"><img src=\"https://colab.research.google.com/assets/colab-badge.svg\" alt=\"Open In Colab\"/></a>"
      ]
    },
    {
      "cell_type": "markdown",
      "source": [
        "# T5ベース"
      ],
      "metadata": {
        "id": "8tHOuLxnuw_0"
      }
    },
    {
      "cell_type": "code",
      "execution_count": 1,
      "metadata": {
        "id": "prk14qzX1Juu"
      },
      "outputs": [],
      "source": [
        "import spacy\n",
        "from spacy import displacy"
      ]
    },
    {
      "cell_type": "code",
      "source": [
        "# https://www.ai-shift.co.jp/techblog/2504\n",
        "# https://www.mojirca.com/2019/10/colab-load-ginza.html\n",
        "!pip install -U ginza https://github.com/megagonlabs/ginza/releases/download/latest/ja_ginza_electra-latest-with-model.tar.gz\n",
        "!pip install -U ja_ginza\n",
        "!pip install -U spacy-transformers"
      ],
      "metadata": {
        "id": "Zyelbyn98AK_"
      },
      "execution_count": null,
      "outputs": []
    },
    {
      "cell_type": "code",
      "source": [
        "nlp = spacy.load('ja_ginza_electra')\n",
        "def run_sp_ents(sentence):\n",
        "  doc = nlp(sentence)\n",
        "  # for ent in doc.ents:\n",
        "  #   print(ent.text, ent.start_char, ent.end_char, ent.label_)\n",
        "  displacy.render(doc, style=\"ent\", jupyter=True)"
      ],
      "metadata": {
        "colab": {
          "base_uri": "https://localhost:8080/"
        },
        "id": "J_Lv974V7v4R",
        "outputId": "0aa6cfe2-29cb-4059-e07e-35f0bcdce73e"
      },
      "execution_count": 13,
      "outputs": [
        {
          "output_type": "stream",
          "name": "stderr",
          "text": [
            "/usr/local/lib/python3.7/dist-packages/spacy/util.py:877: UserWarning: [W095] Model 'ja_ginza_electra' (5.1.0) was trained with spaCy v3.2 and may not be 100% compatible with the current version (3.4.3). If you see errors or degraded performance, download a newer compatible model or retrain your custom model with the current spaCy version. For more details and available updates, run: python -m spacy validate\n",
            "  warnings.warn(warn_msg)\n"
          ]
        }
      ]
    },
    {
      "cell_type": "code",
      "source": [
        "run_sp_ents(\"マックでランチ\")"
      ],
      "metadata": {
        "colab": {
          "base_uri": "https://localhost:8080/",
          "height": 87
        },
        "id": "xU-GMOU_mrmd",
        "outputId": "606a704b-059c-4a75-bdaa-8bdaeba04962"
      },
      "execution_count": 104,
      "outputs": [
        {
          "output_type": "stream",
          "name": "stderr",
          "text": [
            "/usr/local/lib/python3.7/dist-packages/torch/amp/autocast_mode.py:198: UserWarning: User provided device_type of 'cuda', but CUDA is not available. Disabling\n",
            "  warnings.warn('User provided device_type of \\'cuda\\', but CUDA is not available. Disabling')\n"
          ]
        },
        {
          "output_type": "display_data",
          "data": {
            "text/plain": [
              "<IPython.core.display.HTML object>"
            ],
            "text/html": [
              "<span class=\"tex2jax_ignore\"><div class=\"entities\" style=\"line-height: 2.5; direction: ltr\">\n",
              "<mark class=\"entity\" style=\"background: #ddd; padding: 0.45em 0.6em; margin: 0 0.25em; line-height: 1; border-radius: 0.35em;\">\n",
              "    マック\n",
              "    <span style=\"font-size: 0.8em; font-weight: bold; line-height: 1; border-radius: 0.35em; vertical-align: middle; margin-left: 0.5rem\">GOE_Other</span>\n",
              "</mark>\n",
              "でランチ</div></span>"
            ]
          },
          "metadata": {}
        }
      ]
    },
    {
      "cell_type": "markdown",
      "source": [
        "拡張固有表現階層の定義  \n",
        "https://nlp.cs.nyu.edu/ene/version7_0_0.html"
      ],
      "metadata": {
        "id": "OY4ORBNHu-UL"
      }
    },
    {
      "cell_type": "markdown",
      "source": [
        "# BERTベース"
      ],
      "metadata": {
        "id": "T6KACfVRu0_z"
      }
    },
    {
      "cell_type": "code",
      "source": [
        "!pip install unidic_lite fugashi"
      ],
      "metadata": {
        "id": "2UEl0oDDrsds"
      },
      "execution_count": null,
      "outputs": []
    },
    {
      "cell_type": "code",
      "source": [
        "# https://huggingface.co/jurabi/bert-ner-japanese\n",
        "from transformers import BertJapaneseTokenizer, BertForTokenClassification\n",
        "from transformers import pipeline\n",
        "\n",
        "model = BertForTokenClassification.from_pretrained(\"jurabi/bert-ner-japanese\")\n",
        "tokenizer = BertJapaneseTokenizer.from_pretrained(\"jurabi/bert-ner-japanese\")\n",
        "\n",
        "ner_pipeline = pipeline('ner', model=model, tokenizer=tokenizer)"
      ],
      "metadata": {
        "id": "qCoxEqGmqPt8"
      },
      "execution_count": null,
      "outputs": []
    },
    {
      "cell_type": "code",
      "source": [
        "ner_pipeline(\"セブンイレブン　セブン・イレブン\")"
      ],
      "metadata": {
        "colab": {
          "base_uri": "https://localhost:8080/"
        },
        "id": "H6EizBFBredt",
        "outputId": "ed19b7f1-7f23-4d8f-ad1c-eeb8615ea8c7"
      },
      "execution_count": 81,
      "outputs": [
        {
          "output_type": "execute_result",
          "data": {
            "text/plain": [
              "[]"
            ]
          },
          "metadata": {},
          "execution_count": 81
        }
      ]
    },
    {
      "cell_type": "code",
      "source": [],
      "metadata": {
        "id": "pT5Nq4gkxZ2r"
      },
      "execution_count": null,
      "outputs": []
    },
    {
      "cell_type": "markdown",
      "source": [
        "# JCLベース"
      ],
      "metadata": {
        "id": "guiXGcGu2cqL"
      }
    },
    {
      "cell_type": "markdown",
      "source": [
        "https://github.com/lizefield/convert-jcldic-to-sudachidic/blob/main/convert.ipynb"
      ],
      "metadata": {
        "id": "qyMQp0cT2l66"
      }
    },
    {
      "cell_type": "code",
      "source": [
        "!pip install sudachipy sudachidict_core"
      ],
      "metadata": {
        "colab": {
          "base_uri": "https://localhost:8080/"
        },
        "id": "9txWv7R80B88",
        "outputId": "a63eac9b-ea6b-4885-a09e-8f4ecceedf42"
      },
      "execution_count": 82,
      "outputs": [
        {
          "output_type": "stream",
          "name": "stdout",
          "text": [
            "Looking in indexes: https://pypi.org/simple, https://us-python.pkg.dev/colab-wheels/public/simple/\n",
            "Requirement already satisfied: sudachipy in /usr/local/lib/python3.7/dist-packages (0.6.6)\n",
            "Requirement already satisfied: sudachidict_core in /usr/local/lib/python3.7/dist-packages (20221021)\n"
          ]
        }
      ]
    },
    {
      "cell_type": "code",
      "source": [
        "from sudachipy import tokenizer\n",
        "from sudachipy import dictionary"
      ],
      "metadata": {
        "id": "2z9PZFMZ4Ily"
      },
      "execution_count": 84,
      "outputs": []
    },
    {
      "cell_type": "code",
      "source": [
        "tokenizer_obj = dictionary.Dictionary().create()\n",
        "mode = tokenizer.Tokenizer.SplitMode.C"
      ],
      "metadata": {
        "id": "SvYodIEJ37WC"
      },
      "execution_count": 85,
      "outputs": []
    },
    {
      "cell_type": "code",
      "source": [
        "\"\".join( [ i.normalized_form() for i in tokenizer_obj.tokenize(\"サイゼリア\", mode) ] )"
      ],
      "metadata": {
        "colab": {
          "base_uri": "https://localhost:8080/",
          "height": 35
        },
        "id": "ptkDWllp4NcO",
        "outputId": "2387b3ba-14e6-4d94-ad2b-5047f9e5cf4c"
      },
      "execution_count": 103,
      "outputs": [
        {
          "output_type": "execute_result",
          "data": {
            "text/plain": [
              "'サイゼリヤ'"
            ],
            "application/vnd.google.colaboratory.intrinsic+json": {
              "type": "string"
            }
          },
          "metadata": {},
          "execution_count": 103
        }
      ]
    }
  ]
}