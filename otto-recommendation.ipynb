{
 "cells": [
  {
   "cell_type": "markdown",
   "id": "3677b615",
   "metadata": {
    "papermill": {
     "duration": 0.004075,
     "end_time": "2022-12-27T16:13:28.162538",
     "exception": false,
     "start_time": "2022-12-27T16:13:28.158463",
     "status": "completed"
    },
    "tags": []
   },
   "source": [
    "<h2 style=\"text-align:center;font-size:200%;\">\n",
    "    <b>OTTO-EDA&Baseline</b>\n",
    "</h2>\n",
    "<h3  style=\"text-align:center;\">Keywords : \n",
    "    <span style=\"border-radius:7px;background-color:limegreen;color:white;padding:7px;\">Recommendation</span>\n",
    "    <span style=\"border-radius:7px;background-color:limegreen;color:white;padding:7px;\">EDA</span>\n",
    "</h3>\n",
    "\n",
    "<hr>\n",
    "\n",
    "<h2 style=\"font-size:150%;\"><span id='top'>Table of Contents</span></h2>\n",
    "<blockquote>\n",
    "    <ol>\n",
    "        <li><a href=\"#Overview\">Overview</a></li>\n",
    "        <li><a href=\"#Preparation\">Preparation</a></li>\n",
    "        <li><a href=\"#Data-Load\">Data Load</a></li>\n",
    "        <li><a href=\"#References\">References</a></li>\n",
    "    </ol>\n",
    "</blockquote>"
   ]
  },
  {
   "cell_type": "markdown",
   "id": "2cbd4371",
   "metadata": {
    "papermill": {
     "duration": 0.002838,
     "end_time": "2022-12-27T16:13:28.168716",
     "exception": false,
     "start_time": "2022-12-27T16:13:28.165878",
     "status": "completed"
    },
    "tags": []
   },
   "source": [
    "# Overview\n",
    "## About the Dataset\n",
    "- train.jsonl - the training data, which contains full session data\n",
    "    - session - the unique session id\n",
    "    - events - the time ordered sequence of events in the session\n",
    "    - aid - the article id (product code) of the associated event\n",
    "    - ts - the Unix timestamp of the event\n",
    "    - type - the event type, i.e., whether a product was clicked, added to the user's cart, or ordered during the session\n",
    "- test.jsonl - the test data, which contains truncated session data\n",
    "- sample_submission.csv - a sample submission file in the correct format\n",
    "\n",
    "## What You Get from this Notebook\n",
    "- ETL technique\n",
    "- EDA & Visualization\n",
    "- Recommendation Algorithms"
   ]
  },
  {
   "cell_type": "markdown",
   "id": "f888fc1f",
   "metadata": {
    "papermill": {
     "duration": 0.002829,
     "end_time": "2022-12-27T16:13:28.174591",
     "exception": false,
     "start_time": "2022-12-27T16:13:28.171762",
     "status": "completed"
    },
    "tags": []
   },
   "source": [
    "# Preparation"
   ]
  },
  {
   "cell_type": "code",
   "execution_count": 1,
   "id": "2a9ad136",
   "metadata": {
    "_kg_hide-output": true,
    "execution": {
     "iopub.execute_input": "2022-12-27T16:13:28.183394Z",
     "iopub.status.busy": "2022-12-27T16:13:28.182546Z",
     "iopub.status.idle": "2022-12-27T16:13:39.710264Z",
     "shell.execute_reply": "2022-12-27T16:13:39.709047Z"
    },
    "papermill": {
     "duration": 11.535058,
     "end_time": "2022-12-27T16:13:39.712731",
     "exception": false,
     "start_time": "2022-12-27T16:13:28.177673",
     "status": "completed"
    },
    "tags": []
   },
   "outputs": [
    {
     "name": "stdout",
     "output_type": "stream",
     "text": [
      "Collecting pickle5\r\n",
      "  Downloading pickle5-0.0.12-cp37-cp37m-manylinux_2_5_x86_64.manylinux1_x86_64.whl (256 kB)\r\n",
      "\u001b[2K     \u001b[90m━━━━━━━━━━━━━━━━━━━━━━━━━━━━━━━━━━━━━\u001b[0m \u001b[32m256.4/256.4 kB\u001b[0m \u001b[31m917.7 kB/s\u001b[0m eta \u001b[36m0:00:00\u001b[0m\r\n",
      "\u001b[?25hInstalling collected packages: pickle5\r\n",
      "Successfully installed pickle5-0.0.12\r\n",
      "\u001b[33mWARNING: Running pip as the 'root' user can result in broken permissions and conflicting behaviour with the system package manager. It is recommended to use a virtual environment instead: https://pip.pypa.io/warnings/venv\u001b[0m\u001b[33m\r\n",
      "\u001b[0m"
     ]
    }
   ],
   "source": [
    "! pip install pickle5"
   ]
  },
  {
   "cell_type": "code",
   "execution_count": 2,
   "id": "30aaca85",
   "metadata": {
    "execution": {
     "iopub.execute_input": "2022-12-27T16:13:39.721934Z",
     "iopub.status.busy": "2022-12-27T16:13:39.721632Z",
     "iopub.status.idle": "2022-12-27T16:13:39.729591Z",
     "shell.execute_reply": "2022-12-27T16:13:39.728960Z"
    },
    "papermill": {
     "duration": 0.015123,
     "end_time": "2022-12-27T16:13:39.731771",
     "exception": false,
     "start_time": "2022-12-27T16:13:39.716648",
     "status": "completed"
    },
    "tags": []
   },
   "outputs": [],
   "source": [
    "import os\n",
    "import numpy as np\n",
    "import pandas as pd \n",
    "import pickle5"
   ]
  },
  {
   "cell_type": "markdown",
   "id": "310c4432",
   "metadata": {
    "papermill": {
     "duration": 0.003558,
     "end_time": "2022-12-27T16:13:39.739525",
     "exception": false,
     "start_time": "2022-12-27T16:13:39.735967",
     "status": "completed"
    },
    "tags": []
   },
   "source": [
    "# Data Load"
   ]
  },
  {
   "cell_type": "code",
   "execution_count": 3,
   "id": "efdfc58b",
   "metadata": {
    "_cell_guid": "2d18d81c-ef7d-4bd1-8bcf-0710f0221559",
    "_uuid": "13d63463-d890-4183-ac83-453bdab46a9a",
    "collapsed": false,
    "execution": {
     "iopub.execute_input": "2022-12-27T16:13:39.748788Z",
     "iopub.status.busy": "2022-12-27T16:13:39.748277Z",
     "iopub.status.idle": "2022-12-27T16:13:39.762150Z",
     "shell.execute_reply": "2022-12-27T16:13:39.761456Z"
    },
    "jupyter": {
     "outputs_hidden": false
    },
    "papermill": {
     "duration": 0.021082,
     "end_time": "2022-12-27T16:13:39.764349",
     "exception": false,
     "start_time": "2022-12-27T16:13:39.743267",
     "status": "completed"
    },
    "tags": []
   },
   "outputs": [
    {
     "name": "stdout",
     "output_type": "stream",
     "text": [
      "/kaggle/input/otto-recommender-system/sample_submission.csv\n",
      "/kaggle/input/otto-recommender-system/test.jsonl\n",
      "/kaggle/input/otto-recommender-system/train.jsonl\n",
      "/kaggle/input/otto-full-optimized-memory-footprint/id2type.pkl\n",
      "/kaggle/input/otto-full-optimized-memory-footprint/train.parquet\n",
      "/kaggle/input/otto-full-optimized-memory-footprint/type2id.pkl\n",
      "/kaggle/input/otto-full-optimized-memory-footprint/test.parquet\n"
     ]
    }
   ],
   "source": [
    "for dirname, _, filenames in os.walk('/kaggle/input'):\n",
    "    for filename in filenames:\n",
    "        print(os.path.join(dirname, filename))"
   ]
  },
  {
   "cell_type": "code",
   "execution_count": 4,
   "id": "9b0dfcf5",
   "metadata": {
    "execution": {
     "iopub.execute_input": "2022-12-27T16:13:39.774951Z",
     "iopub.status.busy": "2022-12-27T16:13:39.774310Z",
     "iopub.status.idle": "2022-12-27T16:13:39.790127Z",
     "shell.execute_reply": "2022-12-27T16:13:39.788691Z"
    },
    "papermill": {
     "duration": 0.02378,
     "end_time": "2022-12-27T16:13:39.792739",
     "exception": false,
     "start_time": "2022-12-27T16:13:39.768959",
     "status": "completed"
    },
    "tags": []
   },
   "outputs": [
    {
     "data": {
      "text/plain": [
       "{'clicks': 0, 'carts': 1, 'orders': 2}"
      ]
     },
     "execution_count": 4,
     "metadata": {},
     "output_type": "execute_result"
    }
   ],
   "source": [
    "with open(\"/kaggle/input/otto-full-optimized-memory-footprint/type2id.pkl\", 'rb') as pickle_file:\n",
    "    id2type = pickle5.load(pickle_file)\n",
    "id2type"
   ]
  },
  {
   "cell_type": "code",
   "execution_count": 5,
   "id": "9a221a92",
   "metadata": {
    "execution": {
     "iopub.execute_input": "2022-12-27T16:13:39.803494Z",
     "iopub.status.busy": "2022-12-27T16:13:39.802803Z",
     "iopub.status.idle": "2022-12-27T16:13:56.968858Z",
     "shell.execute_reply": "2022-12-27T16:13:56.967956Z"
    },
    "papermill": {
     "duration": 17.173626,
     "end_time": "2022-12-27T16:13:56.970720",
     "exception": false,
     "start_time": "2022-12-27T16:13:39.797094",
     "status": "completed"
    },
    "tags": []
   },
   "outputs": [
    {
     "data": {
      "text/html": [
       "<div>\n",
       "<style scoped>\n",
       "    .dataframe tbody tr th:only-of-type {\n",
       "        vertical-align: middle;\n",
       "    }\n",
       "\n",
       "    .dataframe tbody tr th {\n",
       "        vertical-align: top;\n",
       "    }\n",
       "\n",
       "    .dataframe thead th {\n",
       "        text-align: right;\n",
       "    }\n",
       "</style>\n",
       "<table border=\"1\" class=\"dataframe\">\n",
       "  <thead>\n",
       "    <tr style=\"text-align: right;\">\n",
       "      <th></th>\n",
       "      <th>session</th>\n",
       "      <th>aid</th>\n",
       "      <th>ts</th>\n",
       "      <th>type</th>\n",
       "    </tr>\n",
       "  </thead>\n",
       "  <tbody>\n",
       "    <tr>\n",
       "      <th>0</th>\n",
       "      <td>0</td>\n",
       "      <td>1517085</td>\n",
       "      <td>1659304800</td>\n",
       "      <td>0</td>\n",
       "    </tr>\n",
       "    <tr>\n",
       "      <th>1</th>\n",
       "      <td>0</td>\n",
       "      <td>1563459</td>\n",
       "      <td>1659304904</td>\n",
       "      <td>0</td>\n",
       "    </tr>\n",
       "    <tr>\n",
       "      <th>2</th>\n",
       "      <td>0</td>\n",
       "      <td>1309446</td>\n",
       "      <td>1659367439</td>\n",
       "      <td>0</td>\n",
       "    </tr>\n",
       "    <tr>\n",
       "      <th>3</th>\n",
       "      <td>0</td>\n",
       "      <td>16246</td>\n",
       "      <td>1659367719</td>\n",
       "      <td>0</td>\n",
       "    </tr>\n",
       "    <tr>\n",
       "      <th>4</th>\n",
       "      <td>0</td>\n",
       "      <td>1781822</td>\n",
       "      <td>1659367871</td>\n",
       "      <td>0</td>\n",
       "    </tr>\n",
       "  </tbody>\n",
       "</table>\n",
       "</div>"
      ],
      "text/plain": [
       "   session      aid          ts  type\n",
       "0        0  1517085  1659304800     0\n",
       "1        0  1563459  1659304904     0\n",
       "2        0  1309446  1659367439     0\n",
       "3        0    16246  1659367719     0\n",
       "4        0  1781822  1659367871     0"
      ]
     },
     "execution_count": 5,
     "metadata": {},
     "output_type": "execute_result"
    }
   ],
   "source": [
    "train = pd.read_parquet('../input/otto-full-optimized-memory-footprint/train.parquet')\n",
    "test = pd.read_parquet('../input/otto-full-optimized-memory-footprint/test.parquet')\n",
    "data = pd.concat([train, test])\n",
    "data.head()"
   ]
  },
  {
   "cell_type": "code",
   "execution_count": 6,
   "id": "201f2d42",
   "metadata": {
    "execution": {
     "iopub.execute_input": "2022-12-27T16:13:56.979981Z",
     "iopub.status.busy": "2022-12-27T16:13:56.979691Z",
     "iopub.status.idle": "2022-12-27T16:13:56.985149Z",
     "shell.execute_reply": "2022-12-27T16:13:56.984324Z"
    },
    "papermill": {
     "duration": 0.011913,
     "end_time": "2022-12-27T16:13:56.986829",
     "exception": false,
     "start_time": "2022-12-27T16:13:56.974916",
     "status": "completed"
    },
    "tags": []
   },
   "outputs": [
    {
     "data": {
      "text/plain": [
       "(223644219, 4)"
      ]
     },
     "execution_count": 6,
     "metadata": {},
     "output_type": "execute_result"
    }
   ],
   "source": [
    "data.shape"
   ]
  },
  {
   "cell_type": "code",
   "execution_count": 7,
   "id": "b535967f",
   "metadata": {
    "execution": {
     "iopub.execute_input": "2022-12-27T16:13:56.997708Z",
     "iopub.status.busy": "2022-12-27T16:13:56.996907Z",
     "iopub.status.idle": "2022-12-27T16:14:02.387824Z",
     "shell.execute_reply": "2022-12-27T16:14:02.386819Z"
    },
    "papermill": {
     "duration": 5.398667,
     "end_time": "2022-12-27T16:14:02.389802",
     "exception": false,
     "start_time": "2022-12-27T16:13:56.991135",
     "status": "completed"
    },
    "tags": []
   },
   "outputs": [
    {
     "data": {
      "text/html": [
       "<div>\n",
       "<style scoped>\n",
       "    .dataframe tbody tr th:only-of-type {\n",
       "        vertical-align: middle;\n",
       "    }\n",
       "\n",
       "    .dataframe tbody tr th {\n",
       "        vertical-align: top;\n",
       "    }\n",
       "\n",
       "    .dataframe thead th {\n",
       "        text-align: right;\n",
       "    }\n",
       "</style>\n",
       "<table border=\"1\" class=\"dataframe\">\n",
       "  <thead>\n",
       "    <tr style=\"text-align: right;\">\n",
       "      <th></th>\n",
       "      <th>session_type</th>\n",
       "      <th>labels</th>\n",
       "    </tr>\n",
       "  </thead>\n",
       "  <tbody>\n",
       "    <tr>\n",
       "      <th>0</th>\n",
       "      <td>12899779_clicks</td>\n",
       "      <td>129004 126836 118524</td>\n",
       "    </tr>\n",
       "    <tr>\n",
       "      <th>1</th>\n",
       "      <td>12899779_carts</td>\n",
       "      <td>129004 126836 118524</td>\n",
       "    </tr>\n",
       "    <tr>\n",
       "      <th>2</th>\n",
       "      <td>12899779_orders</td>\n",
       "      <td>129004 126836 118524</td>\n",
       "    </tr>\n",
       "    <tr>\n",
       "      <th>3</th>\n",
       "      <td>12899780_clicks</td>\n",
       "      <td>129004 126836 118524</td>\n",
       "    </tr>\n",
       "    <tr>\n",
       "      <th>4</th>\n",
       "      <td>12899780_carts</td>\n",
       "      <td>129004 126836 118524</td>\n",
       "    </tr>\n",
       "  </tbody>\n",
       "</table>\n",
       "</div>"
      ],
      "text/plain": [
       "      session_type                labels\n",
       "0  12899779_clicks  129004 126836 118524\n",
       "1   12899779_carts  129004 126836 118524\n",
       "2  12899779_orders  129004 126836 118524\n",
       "3  12899780_clicks  129004 126836 118524\n",
       "4   12899780_carts  129004 126836 118524"
      ]
     },
     "execution_count": 7,
     "metadata": {},
     "output_type": "execute_result"
    }
   ],
   "source": [
    "sample_sub = pd.read_csv(\"/kaggle/input/otto-recommender-system/sample_submission.csv\")\n",
    "sample_sub.head()"
   ]
  },
  {
   "cell_type": "markdown",
   "id": "ae094a28",
   "metadata": {
    "papermill": {
     "duration": 0.004815,
     "end_time": "2022-12-27T16:14:02.399339",
     "exception": false,
     "start_time": "2022-12-27T16:14:02.394524",
     "status": "completed"
    },
    "tags": []
   },
   "source": [
    "<button class=\"label alert-success\" style=\"border-radius:10px;padding:10px;font-size:18px\"><a href=\"#top\" style=\"color:green;\"><b>Table of Contents</b></a></button>"
   ]
  },
  {
   "cell_type": "markdown",
   "id": "dfdf41b8",
   "metadata": {
    "_cell_guid": "5ebfc0e0-6cb6-466d-851c-069d76d793f4",
    "_uuid": "0a932b1f-e976-4a07-bf7c-2313395116ae",
    "papermill": {
     "duration": 0.004026,
     "end_time": "2022-12-27T16:14:02.407681",
     "exception": false,
     "start_time": "2022-12-27T16:14:02.403655",
     "status": "completed"
    },
    "tags": []
   },
   "source": [
    "# References\n",
    "- About this dataset\n",
    "    - https://www.kaggle.com/competitions/otto-recommender-system/data\n",
    "    - https://www.kaggle.com/datasets/radek1/otto-full-optimized-memory-footprint\n",
    "- Sample Notebooks\n",
    "    - ETL\n",
    "        - https://www.kaggle.com/code/s107304004/itemcf\n",
    "    - EDA\n",
    "        - https://www.kaggle.com/code/cdeotte/time-series-eda-users-and-real-sessions\n",
    "        - https://www.kaggle.com/code/cdeotte/user-eda-with-rapids-tsne-and-matrix-factorization\n",
    "        - https://www.kaggle.com/code/adaubas/otto-interesting-times-series-eda-on-products\n",
    "    - Modeling\n",
    "        - https://www.kaggle.com/code/radek1/word2vec-how-to-training-and-submission\n",
    "        - https://www.kaggle.com/code/alexandershumilin/otto-baseline\n",
    "    - Discussions\n",
    "        - https://www.kaggle.com/competitions/otto-recommender-system/discussion/368685"
   ]
  },
  {
   "cell_type": "markdown",
   "id": "7864b59b",
   "metadata": {
    "papermill": {
     "duration": 0.003964,
     "end_time": "2022-12-27T16:14:02.415863",
     "exception": false,
     "start_time": "2022-12-27T16:14:02.411899",
     "status": "completed"
    },
    "tags": []
   },
   "source": [
    "<button class=\"label alert-success\" style=\"border-radius:10px;padding:10px;font-size:18px\"><a href=\"#top\" style=\"color:green;\"><b>Table of Contents</b></a></button>"
   ]
  }
 ],
 "metadata": {
  "kernelspec": {
   "display_name": "Python 3",
   "language": "python",
   "name": "python3"
  },
  "language_info": {
   "codemirror_mode": {
    "name": "ipython",
    "version": 3
   },
   "file_extension": ".py",
   "mimetype": "text/x-python",
   "name": "python",
   "nbconvert_exporter": "python",
   "pygments_lexer": "ipython3",
   "version": "3.7.12"
  },
  "papermill": {
   "default_parameters": {},
   "duration": 42.43344,
   "end_time": "2022-12-27T16:14:03.142730",
   "environment_variables": {},
   "exception": null,
   "input_path": "__notebook__.ipynb",
   "output_path": "__notebook__.ipynb",
   "parameters": {},
   "start_time": "2022-12-27T16:13:20.709290",
   "version": "2.3.4"
  }
 },
 "nbformat": 4,
 "nbformat_minor": 5
}
